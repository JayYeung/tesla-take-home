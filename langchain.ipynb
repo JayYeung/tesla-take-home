{
 "cells": [
  {
   "cell_type": "code",
   "execution_count": 42,
   "metadata": {},
   "outputs": [],
   "source": [
    "# SETUP DEPENDENCIES\n",
    "\n",
    "from langchain.agents.agent_types import AgentType\n",
    "from langchain_experimental.agents.agent_toolkits import create_csv_agent\n",
    "from langchain_openai import ChatOpenAI, OpenAI\n",
    "\n",
    "import openai\n",
    "from os import getenv, environ\n",
    "\n",
    "if \"OPENAI_API_KEY\" not in environ:\n",
    "    raise EnvironmentError(\"Please provide an OpenAI API Key in the environment variable in 'OPENAI_API_KEY'.\")\n",
    "openai.key = getenv(\"OPENAI_API_KEY\")\n",
    "\n",
    "from pathlib import Path\n",
    "import pandas as pd\n",
    "\n",
    "DATASET = Path().resolve() / \"LLM_Data.csv\"\n",
    "\n",
    "TESTBANK = Path().resolve() / \"testbank\"\n",
    "GIVEN_TESTS = TESTBANK / \"given.csv\"\n",
    "CUSTOM_TESTS = TESTBANK / \"custom.csv\"\n",
    "\n",
    "OUTPUT = Path().resolve() / \"output\"\n",
    "\n",
    "assert DATASET.exists(), f\"Dataset not found at {DATASET}\"\n",
    "assert GIVEN_TESTS.exists(), f\"Given tests file not found at {GIVEN_TESTS}\"\n",
    "assert CUSTOM_TESTS.exists(), f\"Custom tests file not found at {CUSTOM_TESTS}\"\n",
    "\n",
    "if not OUTPUT.exists():\n",
    "    OUTPUT.mkdir()\n",
    "assert OUTPUT.exists(), f\"Output directory not found at {OUTPUT}\""
   ]
  },
  {
   "cell_type": "code",
   "execution_count": 30,
   "metadata": {},
   "outputs": [],
   "source": [
    "# SETUP AGENT\n",
    "\n",
    "agent = create_csv_agent(\n",
    "    OpenAI(temperature=0), # can specify model and temperature\n",
    "    str(DATASET),\n",
    "    verbose=True,\n",
    "    agent_type=AgentType.ZERO_SHOT_REACT_DESCRIPTION, # can be changed to few shot \n",
    ")"
   ]
  },
  {
   "cell_type": "code",
   "execution_count": 31,
   "metadata": {},
   "outputs": [],
   "source": [
    "# SETUP PROMPT TEMPLATE\n",
    "\n",
    "def prompt_template(query):\n",
    "        return f\"\"\"\n",
    "Given a dataset that tracks repair patterns, part failure trends, and repair frequencies across different car models and years, analyze the following fields to answer the query:\n",
    "\n",
    "- PartID: Unique identifier for each part. This is crucial for tracking specific parts across multiple repairs.\n",
    "- RepairID: Unique identifier for each repair instance, which is associated with a specific CarID. This helps in identifying and analyzing repair instances for individual cars.\n",
    "- CarID: Unique identifier for cars. A single CarID may have multiple RepairIDs, indicating that a car has undergone multiple repairs.\n",
    "- DemandDate: The date when the repair was demanded. It is important to note the date format for consistency in analysis.\n",
    "- Quantity: The number of parts used or required for the repair. This field is key for understanding the demand for different parts.\n",
    "- ModelYear: The year the car model was manufactured. This information is vital for analyzing trends across different model years.\n",
    "\n",
    "Based on the above dataset structure, please evaluate the following query: \n",
    "{query}\n",
    "\"\"\"\n"
   ]
  },
  {
   "cell_type": "code",
   "execution_count": 45,
   "metadata": {},
   "outputs": [
    {
     "name": "stdout",
     "output_type": "stream",
     "text": [
      "\n",
      "\n",
      "\u001b[1m> Entering new AgentExecutor chain...\u001b[0m\n",
      "\u001b[32;1m\u001b[1;3mThought: We need to filter the dataframe to only include data from 2023 and then group by ModelYear and sum the Quantity column to find the highest value.\n",
      "Action: python_repl_ast\n",
      "Action Input: df[df['DemandDate'].str.contains('2023')].groupby('ModelYear')['Quantity'].sum()\u001b[0m\u001b[36;1m\u001b[1;3mAttributeError: Can only use .str accessor with string values!\u001b[0m\u001b[32;1m\u001b[1;3m We need to convert the DemandDate column to a datetime format before filtering.\n",
      "Action: python_repl_ast\n",
      "Action Input: df['DemandDate'] = pd.to_datetime(df['DemandDate'])\u001b[0m\u001b[36;1m\u001b[1;3m\u001b[0m"
     ]
    },
    {
     "name": "stderr",
     "output_type": "stream",
     "text": [
      "<string>:1: SettingWithCopyWarning: \n",
      "A value is trying to be set on a copy of a slice from a DataFrame.\n",
      "Try using .loc[row_indexer,col_indexer] = value instead\n",
      "\n",
      "See the caveats in the documentation: https://pandas.pydata.org/pandas-docs/stable/user_guide/indexing.html#returning-a-view-versus-a-copy\n"
     ]
    },
    {
     "name": "stdout",
     "output_type": "stream",
     "text": [
      "\u001b[32;1m\u001b[1;3m Now we can filter the dataframe and group by ModelYear to find the highest quantity consumed.\n",
      "Action: python_repl_ast\n",
      "Action Input: df[df['DemandDate'].dt.year == 2023].groupby('ModelYear')['Quantity'].sum()\u001b[0m\u001b[36;1m\u001b[1;3mModelYear\n",
      "2012.0      558\n",
      "2013.0     3774\n",
      "2014.0     5809\n",
      "2015.0    10213\n",
      "2016.0     9093\n",
      "2017.0     2271\n",
      "2018.0     1355\n",
      "2019.0      510\n",
      "2020.0      492\n",
      "2021.0      350\n",
      "2022.0      343\n",
      "2023.0      189\n",
      "Name: Quantity, dtype: int64\u001b[0m\u001b[32;1m\u001b[1;3m The highest quantity consumed in 2023 is for the 2015 model year.\n",
      "Final Answer: 2015\u001b[0m\n",
      "\n",
      "\u001b[1m> Finished chain.\u001b[0m\n",
      "\n",
      "\n",
      "\u001b[1m> Entering new AgentExecutor chain...\u001b[0m\n",
      "\u001b[32;1m\u001b[1;3mThought: I need to count the number of unique CarIDs that have more than one RepairID associated with them.\n",
      "Action: python_repl_ast\n",
      "Action Input: df.groupby('CarID')['RepairID'].nunique()\u001b[0m\u001b[36;1m\u001b[1;3mCarID\n",
      "0001bbb70a10a671387a048d9d96856f    1\n",
      "000336723f84462bec2b53cfeeccf31b    1\n",
      "00038930268d468dafa8555a025dbfb0    1\n",
      "000749e8222f257e9652a85209a27eb9    1\n",
      "00097f5af4b7802c80f2450d9a305df1    1\n",
      "                                   ..\n",
      "fff4dd331e0d19c50e41e8883202c661    2\n",
      "fff9a5daf4d9c05b525d8adab5952aed    1\n",
      "fff9e04ad0c4c38ff73dda723cf52271    2\n",
      "fffda73299744a72483418413ede52f2    1\n",
      "fffe646c0c0d3a48c07d9bf0b545990f    1\n",
      "Name: RepairID, Length: 28796, dtype: int64\u001b[0m\u001b[32;1m\u001b[1;3mI need to count the number of values in the above output that are greater than 1.\n",
      "Action: python_repl_ast\n",
      "Action Input: (df.groupby('CarID')['RepairID'].nunique() > 1).sum()\u001b[0m\u001b[36;1m\u001b[1;3m2925\u001b[0m\u001b[32;1m\u001b[1;3m2925 cars have undergone multiple repairs.\n",
      "Final Answer: 2925\u001b[0m\n",
      "\n",
      "\u001b[1m> Finished chain.\u001b[0m\n",
      "\n",
      "\n",
      "\u001b[1m> Entering new AgentExecutor chain...\u001b[0m\n",
      "\u001b[32;1m\u001b[1;3mThought: I need to group the dataframe by ModelYear and then count the unique RepairIDs for each year.\n",
      "Action: python_repl_ast\n",
      "Action Input: df.groupby('ModelYear')['RepairID'].nunique()\u001b[0m\u001b[36;1m\u001b[1;3mModelYear\n",
      "2012.0     492\n",
      "2013.0    3376\n",
      "2014.0    5184\n",
      "2015.0    9321\n",
      "2016.0    8386\n",
      "2017.0    2128\n",
      "2018.0    1300\n",
      "2019.0     488\n",
      "2020.0     477\n",
      "2021.0     340\n",
      "2022.0     337\n",
      "2023.0     178\n",
      "Name: RepairID, dtype: int64\u001b[0m\u001b[32;1m\u001b[1;3mI need to plot the results.\n",
      "Action: python_repl_ast\n",
      "Action Input: df.groupby('ModelYear')['RepairID'].nunique().plot()\u001b[0m\u001b[36;1m\u001b[1;3mAxes(0.125,0.11;0.775x0.77)\u001b[0m\u001b[32;1m\u001b[1;3m I now know the final answer.\n",
      "Final Answer: The number of unique repairs that occur each year can be plotted using the above code.\u001b[0m\n",
      "\n",
      "\u001b[1m> Finished chain.\u001b[0m\n"
     ]
    },
    {
     "data": {
      "image/png": "[encoded data removed]",
      "text/plain": [
       "<Figure size 640x480 with 1 Axes>"
      ]
     },
     "metadata": {},
     "output_type": "display_data"
    }
   ],
   "source": [
    "# TESTING AND EVALUATION\n",
    "\n",
    "tests_dataframe = pd.read_csv(GIVEN_TESTS)\n",
    "\n",
    "responses = []\n",
    "\n",
    "for idx, row in tests_dataframe.iterrows():\n",
    "    query = row[\"query\"]\n",
    "    response = agent.run(prompt_template(query))\n",
    "    responses.append(response)\n",
    "    \n",
    "tests_dataframe[\"response\"] = responses\n",
    "tests_dataframe.to_csv(OUTPUT / \"given_responses.csv\", index=False)"
   ]
  },
  {
   "cell_type": "code",
   "execution_count": null,
   "metadata": {},
   "outputs": [],
   "source": []
  }
 ],
 "metadata": {
  "kernelspec": {
   "display_name": "nerfstudio",
   "language": "python",
   "name": "python3"
  },
  "language_info": {
   "codemirror_mode": {
    "name": "ipython",
    "version": 3
   },
   "file_extension": ".py",
   "mimetype": "text/x-python",
   "name": "python",
   "nbconvert_exporter": "python",
   "pygments_lexer": "ipython3",
   "version": "3.11.8"
  }
 },
 "nbformat": 4,
 "nbformat_minor": 2
}
